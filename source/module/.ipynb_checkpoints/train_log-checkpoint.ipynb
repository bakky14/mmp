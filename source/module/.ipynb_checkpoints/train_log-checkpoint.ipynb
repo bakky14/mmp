{
 "cells": [
  {
   "cell_type": "code",
   "execution_count": 8,
   "metadata": {},
   "outputs": [
    {
     "name": "stdout",
     "output_type": "stream",
     "text": [
      "Collecting mysql-connector-python-rf\n",
      "  Downloading https://files.pythonhosted.org/packages/21/79/2ff01ab7aa08db3a16b70b990c579c1024c6b2a734263cc7513a758867de/mysql-connector-python-rf-2.2.2.tar.gz (11.9MB)\n",
      "Building wheels for collected packages: mysql-connector-python-rf\n",
      "  Running setup.py bdist_wheel for mysql-connector-python-rf: started\n",
      "  Running setup.py bdist_wheel for mysql-connector-python-rf: finished with status 'done'\n",
      "  Stored in directory: C:\\Users\\southman\\AppData\\Local\\pip\\Cache\\wheels\\87\\58\\fb\\d95c84fad7e1bebfed324c13e107ebb08e1997c9226532859a\n",
      "Successfully built mysql-connector-python-rf\n",
      "Installing collected packages: mysql-connector-python-rf\n",
      "Successfully installed mysql-connector-python-rf-2.2.2\n"
     ]
    }
   ],
   "source": [
    "#!pip install mysql-connector-python-rf --upgrade"
   ]
  },
  {
   "cell_type": "code",
   "execution_count": 13,
   "metadata": {},
   "outputs": [
    {
     "name": "stdout",
     "output_type": "stream",
     "text": [
      "1 record inserted.\n"
     ]
    }
   ],
   "source": [
    "import mysql.connector\n",
    "import pandas as pd\n",
    "from sklearn.model_selection import GridSearchCV\n",
    "import json\n",
    "from notebook import notebookapp\n",
    "import urllib\n",
    "import os\n",
    "import ipykernel\n",
    "\n",
    "INSERT_SQL = \"INSERT INTO train_logs \" + \n",
    "             \"(train_name, params, train_models, score, features, train_sample, source) \" + \n",
    "             \"VALUES (%s, %s, %s, %f, %s, %s, %s) \"\n",
    "        \n",
    "def notebook_path():\n",
    "    \"\"\"Returns the absolute path of the Notebook or None if it cannot be determined\n",
    "    NOTE: works only when the security is token-based or there is also no password\n",
    "    \"\"\"\n",
    "    connection_file = os.path.basename(ipykernel.get_connection_file())\n",
    "    kernel_id = connection_file.split('-', 1)[1].split('.')[0]\n",
    "\n",
    "    for srv in notebookapp.list_running_servers():\n",
    "        try:\n",
    "            if srv['token']=='' and not srv['password']:  # No token and no password, ahem...\n",
    "                req = urllib.request.urlopen(srv['url']+'api/sessions')\n",
    "            else:\n",
    "                req = urllib.request.urlopen(srv['url']+'api/sessions?token='+srv['token'])\n",
    "            sessions = json.load(req)\n",
    "            for sess in sessions:\n",
    "                if sess['kernel']['id'] == kernel_id:\n",
    "                    return os.path.join(srv['notebook_dir'],sess['notebook']['path'])\n",
    "        except:\n",
    "            pass  # There may be stale entries in the runtime directory \n",
    "    return None        \n",
    "\n",
    "def convertNotebook(notebookPath):\n",
    "\n",
    "  with open(notebookPath, encoding='UTF-8') as fh:\n",
    "    nb = nbformat.reads(fh.read(), nbformat.NO_CONVERT)\n",
    "\n",
    "  exporter = PythonExporter()\n",
    "  source, meta = exporter.from_notebook_node(nb)\n",
    "\n",
    "  return source\n",
    "\n",
    "\n",
    "def get_connection():\n",
    "    return mysql.connector.connect(\n",
    "      host=\"101.101.165.147\",\n",
    "      user=\"south4\",\n",
    "      passwd=\"southpaw\",\n",
    "      database=\"south4\"\n",
    "    )\n",
    "\n",
    "def get_cursor(conn):\n",
    "    return conn.cursor()\n",
    "\n",
    "def insert(train_name:str, params:str, train_models:str, score:float, features:str, train_sample:str, source:str=''):\n",
    "    \"\"\"로그 입력\"\"\"\n",
    "    try:\n",
    "        conn = get_connection()\n",
    "        cursor = get_cursor(conn)\n",
    "        val = (train_name, params, train_models, score,features,train_sample, source)\n",
    "        cursor.execute(INSERT_SQL, val)\n",
    "        conn.commit()\n",
    "    \n",
    "    except mysql.connector.Error as error :\n",
    "        conn.rollback() #rollback if any exception occured\n",
    "        print(\"Failed inserting record into python_users table {}\".format(error))  \n",
    "    \n",
    "    finally:\n",
    "        if(conn.is_connected()):\n",
    "            cursor.close()\n",
    "            conn.close()\n",
    "\n",
    "def save(train_name:str, X_train:pd.DataFrame, clfs:list, clf_cv:GridSearchCV):\n",
    "    params = clf_cv.best_params_\n",
    "    score = clf_cv.best_score_\n",
    "    train_models = json.dump(clfs)\n",
    "    features = json.dump(X_train.columns)\n",
    "    train_sample = json.dump(X_train.sample(n=10))\n",
    "    notebookPath = notebook_path()  \n",
    "    source = convertNotebook(notebookPath)\n",
    "    insert(train_name, params, train_models, score, features, train_sample, source)\n",
    "    \n",
    "#insert(\"train_test3\", \"params\", \"train_models\", \"source\")\n",
    "#print(cursor_south4.rowcount, \"record inserted.\")\n"
   ]
  }
 ],
 "metadata": {
  "kernelspec": {
   "display_name": "Python 3",
   "language": "python",
   "name": "python3"
  },
  "language_info": {
   "codemirror_mode": {
    "name": "ipython",
    "version": 3
   },
   "file_extension": ".py",
   "mimetype": "text/x-python",
   "name": "python",
   "nbconvert_exporter": "python",
   "pygments_lexer": "ipython3",
   "version": "3.6.5"
  }
 },
 "nbformat": 4,
 "nbformat_minor": 2
}
