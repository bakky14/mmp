{
 "cells": [
  {
   "cell_type": "code",
   "execution_count": 11,
   "metadata": {},
   "outputs": [],
   "source": [
    "#!pip install plotly  "
   ]
  },
  {
   "cell_type": "code",
   "execution_count": 10,
   "metadata": {},
   "outputs": [
    {
     "data": {
      "text/html": [
       "<script type=\"text/javascript\">window.PlotlyConfig = {MathJaxConfig: 'local'};</script><script type=\"text/javascript\">if (window.MathJax) {MathJax.Hub.Config({SVG: {font: \"STIX-Web\"}});}</script><script>requirejs.config({paths: { 'plotly': ['https://cdn.plot.ly/plotly-latest.min']},});if(!window._Plotly) {require(['plotly'],function(plotly) {window._Plotly=plotly;});}</script>"
      ],
      "text/vnd.plotly.v1+html": [
       "<script type=\"text/javascript\">window.PlotlyConfig = {MathJaxConfig: 'local'};</script><script type=\"text/javascript\">if (window.MathJax) {MathJax.Hub.Config({SVG: {font: \"STIX-Web\"}});}</script><script>requirejs.config({paths: { 'plotly': ['https://cdn.plot.ly/plotly-latest.min']},});if(!window._Plotly) {require(['plotly'],function(plotly) {window._Plotly=plotly;});}</script>"
      ]
     },
     "metadata": {},
     "output_type": "display_data"
    },
    {
     "name": "stdout",
     "output_type": "stream",
     "text": [
      "['all.zip', 'sample_submission.csv', 'test.csv', 'train.csv']\n"
     ]
    }
   ],
   "source": [
    "import numpy as np \n",
    "from numba import jit\n",
    "import pandas as pd \n",
    "from datetime import datetime as dt\n",
    "import os\n",
    "import seaborn as sns \n",
    "import matplotlib.pyplot as plt\n",
    "%matplotlib inline\n",
    "plt.style.use('ggplot')\n",
    "import lightgbm as lgb\n",
    "import xgboost as xgb\n",
    "import time\n",
    "import datetime\n",
    "from tqdm import tqdm_notebook as tqdm\n",
    "from sklearn.preprocessing import LabelEncoder\n",
    "from sklearn.model_selection import StratifiedKFold, KFold, TimeSeriesSplit\n",
    "from sklearn.metrics import mean_squared_error, roc_auc_score\n",
    "from sklearn.linear_model import LogisticRegression, LogisticRegressionCV\n",
    "from sklearn import metrics\n",
    "import gc\n",
    "from catboost import CatBoostClassifier\n",
    "from tqdm import tqdm_notebook\n",
    "import plotly.offline as py\n",
    "py.init_notebook_mode(connected=True)\n",
    "import plotly.graph_objs as go\n",
    "import plotly.tools as tls\n",
    "\n",
    "import warnings\n",
    "warnings.filterwarnings(\"ignore\")\n",
    "\n",
    "import logging\n",
    "\n",
    "logging.basicConfig(filename='log.txt',level=logging.DEBUG, format='%(asctime)s %(message)s')\n",
    "\n",
    "pd.set_option('max_colwidth', 500)\n",
    "pd.set_option('max_columns', 500)\n",
    "pd.set_option('max_rows', 100)\n",
    "import os\n",
    "print(os.listdir(\"../input\"))"
   ]
  },
  {
   "cell_type": "code",
   "execution_count": 26,
   "metadata": {},
   "outputs": [],
   "source": [
    "@jit\n",
    "def fast_auc(y_true, y_prob):\n",
    "    y_true = np.asarray(y_true)\n",
    "    y_true = y_true[np.argsort(y_prob)]\n",
    "    nfalse = 0\n",
    "    auc = 0\n",
    "    n = len(y_true)\n",
    "    for i in range(n):\n",
    "        y_i = y_true[i]\n",
    "        nfalse += (1 - y_i)\n",
    "        auc += y_i * nfalse\n",
    "    auc /= (nfalse * (n - nfalse))\n",
    "    return auc\n",
    "\n",
    "def eval_auc(preds, dtrain):\n",
    "    labels = dtrain.get_label()\n",
    "    return 'auc', fast_auc(labels, preds), True"
   ]
  },
  {
   "cell_type": "code",
   "execution_count": 12,
   "metadata": {},
   "outputs": [],
   "source": [
    "#https://www.kaggle.com/theoviel/load-the-totality-of-the-data\n",
    "dtypes = {\n",
    "        'MachineIdentifier':                                    'category',\n",
    "        'ProductName':                                          'category',\n",
    "        'EngineVersion':                                        'category',\n",
    "        'AppVersion':                                           'category',\n",
    "        'AvSigVersion':                                         'category',\n",
    "        'IsBeta':                                               'int8',\n",
    "        'RtpStateBitfield':                                     'float16',\n",
    "        'IsSxsPassiveMode':                                     'int8',\n",
    "        'DefaultBrowsersIdentifier':                            'float16',\n",
    "        'AVProductStatesIdentifier':                            'float32',\n",
    "        'AVProductsInstalled':                                  'float16',\n",
    "        'AVProductsEnabled':                                    'float16',\n",
    "        'HasTpm':                                               'int8',\n",
    "        'CountryIdentifier':                                    'int16',\n",
    "        'CityIdentifier':                                       'float32',\n",
    "        'OrganizationIdentifier':                               'float16',\n",
    "        'GeoNameIdentifier':                                    'float16',\n",
    "        'LocaleEnglishNameIdentifier':                          'int8',\n",
    "        'Platform':                                             'category',\n",
    "        'Processor':                                            'category',\n",
    "        'OsVer':                                                'category',\n",
    "        'OsBuild':                                              'int16',\n",
    "        'OsSuite':                                              'int16',\n",
    "        'OsPlatformSubRelease':                                 'category',\n",
    "        'OsBuildLab':                                           'category',\n",
    "        'SkuEdition':                                           'category',\n",
    "        'IsProtected':                                          'float16',\n",
    "        'AutoSampleOptIn':                                      'int8',\n",
    "        'PuaMode':                                              'category',\n",
    "        'SMode':                                                'float16',\n",
    "        'IeVerIdentifier':                                      'float16',\n",
    "        'SmartScreen':                                          'category',\n",
    "        'Firewall':                                             'float16',\n",
    "        'UacLuaenable':                                         'float32',\n",
    "        'Census_MDC2FormFactor':                                'category',\n",
    "        'Census_DeviceFamily':                                  'category',\n",
    "        'Census_OEMNameIdentifier':                             'float16',\n",
    "        'Census_OEMModelIdentifier':                            'float32',\n",
    "        'Census_ProcessorCoreCount':                            'float16',\n",
    "        'Census_ProcessorManufacturerIdentifier':               'float16',\n",
    "        'Census_ProcessorModelIdentifier':                      'float16',\n",
    "        'Census_ProcessorClass':                                'category',\n",
    "        'Census_PrimaryDiskTotalCapacity':                      'float32',\n",
    "        'Census_PrimaryDiskTypeName':                           'category',\n",
    "        'Census_SystemVolumeTotalCapacity':                     'float32',\n",
    "        'Census_HasOpticalDiskDrive':                           'int8',\n",
    "        'Census_TotalPhysicalRAM':                              'float32',\n",
    "        'Census_ChassisTypeName':                               'category',\n",
    "        'Census_InternalPrimaryDiagonalDisplaySizeInInches':    'float16',\n",
    "        'Census_InternalPrimaryDisplayResolutionHorizontal':    'float16',\n",
    "        'Census_InternalPrimaryDisplayResolutionVertical':      'float16',\n",
    "        'Census_PowerPlatformRoleName':                         'category',\n",
    "        'Census_InternalBatteryType':                           'category',\n",
    "        'Census_InternalBatteryNumberOfCharges':                'float32',\n",
    "        'Census_OSVersion':                                     'category',\n",
    "        'Census_OSArchitecture':                                'category',\n",
    "        'Census_OSBranch':                                      'category',\n",
    "        'Census_OSBuildNumber':                                 'int16',\n",
    "        'Census_OSBuildRevision':                               'int32',\n",
    "        'Census_OSEdition':                                     'category',\n",
    "        'Census_OSSkuName':                                     'category',\n",
    "        'Census_OSInstallTypeName':                             'category',\n",
    "        'Census_OSInstallLanguageIdentifier':                   'float16',\n",
    "        'Census_OSUILocaleIdentifier':                          'int16',\n",
    "        'Census_OSWUAutoUpdateOptionsName':                     'category',\n",
    "        'Census_IsPortableOperatingSystem':                     'int8',\n",
    "        'Census_GenuineStateName':                              'category',\n",
    "        'Census_ActivationChannel':                             'category',\n",
    "        'Census_IsFlightingInternal':                           'float16',\n",
    "        'Census_IsFlightsDisabled':                             'float16',\n",
    "        'Census_FlightRing':                                    'category',\n",
    "        'Census_ThresholdOptIn':                                'float16',\n",
    "        'Census_FirmwareManufacturerIdentifier':                'float16',\n",
    "        'Census_FirmwareVersionIdentifier':                     'float32',\n",
    "        'Census_IsSecureBootEnabled':                           'int8',\n",
    "        'Census_IsWIMBootEnabled':                              'float16',\n",
    "        'Census_IsVirtualDevice':                               'float16',\n",
    "        'Census_IsTouchEnabled':                                'int8',\n",
    "        'Census_IsPenCapable':                                  'int8',\n",
    "        'Census_IsAlwaysOnAlwaysConnectedCapable':              'float16',\n",
    "        'Wdft_IsGamer':                                         'float16',\n",
    "        'Wdft_RegionIdentifier':                                'float16',\n",
    "        'HasDetections':                                        'int8'\n",
    "        }\n",
    "\n",
    "def reduce_mem_usage(df, verbose=True):\n",
    "    numerics = ['int16', 'int32', 'int64', 'float16', 'float32', 'float64']\n",
    "    start_mem = df.memory_usage(deep=True).sum() / 1024**2    \n",
    "    for col in df.columns:\n",
    "        col_type = df[col].dtypes\n",
    "        if col_type in numerics:\n",
    "            c_min = df[col].min()\n",
    "            c_max = df[col].max()\n",
    "            if str(col_type)[:3] == 'int':\n",
    "                if c_min > np.iinfo(np.int8).min and c_max < np.iinfo(np.int8).max:\n",
    "                    df[col] = df[col].astype(np.int8)\n",
    "                elif c_min > np.iinfo(np.int16).min and c_max < np.iinfo(np.int16).max:\n",
    "                    df[col] = df[col].astype(np.int16)\n",
    "                elif c_min > np.iinfo(np.int32).min and c_max < np.iinfo(np.int32).max:\n",
    "                    df[col] = df[col].astype(np.int32)\n",
    "                elif c_min > np.iinfo(np.int64).min and c_max < np.iinfo(np.int64).max:\n",
    "                    df[col] = df[col].astype(np.int64)  \n",
    "            else:\n",
    "                if c_min > np.finfo(np.float16).min and c_max < np.finfo(np.float16).max:\n",
    "                    df[col] = df[col].astype(np.float16)\n",
    "                elif c_min > np.finfo(np.float32).min and c_max < np.finfo(np.float32).max:\n",
    "                    df[col] = df[col].astype(np.float32)\n",
    "                else:\n",
    "                    df[col] = df[col].astype(np.float64)    \n",
    "    end_mem = df.memory_usage(deep=True).sum() / 1024**2\n",
    "    if verbose: print('Mem. usage decreased to {:5.2f} Mb ({:.1f}% reduction)'.format(end_mem, 100 * (start_mem - end_mem) / start_mem))\n",
    "    return df"
   ]
  },
  {
   "cell_type": "code",
   "execution_count": 13,
   "metadata": {},
   "outputs": [],
   "source": [
    "numerics = ['int8', 'int16', 'int32', 'int64', 'float16', 'float32', 'float64']\n",
    "numerical_columns = [c for c,v in dtypes.items() if v in numerics]\n",
    "categorical_columns = [c for c,v in dtypes.items() if v not in numerics]"
   ]
  },
  {
   "cell_type": "code",
   "execution_count": 14,
   "metadata": {},
   "outputs": [
    {
     "name": "stdout",
     "output_type": "stream",
     "text": [
      "Wall time: 3min 15s\n"
     ]
    }
   ],
   "source": [
    "%%time\n",
    "train = pd.read_csv('../input/train.csv', dtype=dtypes)"
   ]
  },
  {
   "cell_type": "code",
   "execution_count": 15,
   "metadata": {},
   "outputs": [],
   "source": [
    "random_sample_percent = 5/8\n",
    "random_state = 15\n",
    "number_of_folds = 5\n",
    "shuffle = True"
   ]
  },
  {
   "cell_type": "code",
   "execution_count": 16,
   "metadata": {},
   "outputs": [],
   "source": [
    "# To match the R kernel - https://www.kaggle.com/hung96ad/lightgbm\n",
    "if random_sample_percent is not None:\n",
    "    train = train.sample(frac=random_sample_percent, random_state=random_state)"
   ]
  },
  {
   "cell_type": "code",
   "execution_count": 17,
   "metadata": {},
   "outputs": [],
   "source": [
    "train_y = train['HasDetections']"
   ]
  },
  {
   "cell_type": "code",
   "execution_count": 18,
   "metadata": {},
   "outputs": [
    {
     "name": "stdout",
     "output_type": "stream",
     "text": [
      "Mem. usage decreased to 1923.79 Mb (0.0% reduction)\n"
     ]
    }
   ],
   "source": [
    "train = reduce_mem_usage(train)"
   ]
  },
  {
   "cell_type": "code",
   "execution_count": 19,
   "metadata": {},
   "outputs": [
    {
     "name": "stdout",
     "output_type": "stream",
     "text": [
      "Mem. usage decreased to 2111.09 Mb (0.0% reduction)\n"
     ]
    }
   ],
   "source": [
    "test = pd.read_csv('../input/test.csv', dtype=dtypes)\n",
    "# test.loc[6529507, 'OsBuildLab'] = '17134.1.amd64fre.rs4_release.180410-1804'\n",
    "test = reduce_mem_usage(test)"
   ]
  },
  {
   "cell_type": "code",
   "execution_count": 20,
   "metadata": {},
   "outputs": [],
   "source": [
    "def encode_categorical_columns(x_train, x_test, columns, sort=True):\n",
    "    train_length = x_train.shape[0]\n",
    "    for col in tqdm(columns):\n",
    "        if col == 'MachineIdentifier' or col == 'HasDetections':\n",
    "            continue\n",
    "            \n",
    "        combined_data = pd.concat([x_train[col], x_test[col]])\n",
    "        combined_data, _ = pd.factorize(combined_data, sort=sort)\n",
    "        combined_data = pd.Series(combined_data).astype('int32')\n",
    "        x_train[col] = combined_data.iloc[:train_length].values\n",
    "        x_test[col] = combined_data.iloc[train_length:].values\n",
    "        x_train[col] = x_train[col].fillna(0)\n",
    "        x_test[col] = x_test[col].fillna(0)\n",
    "        del combined_data\n",
    "        \n",
    "    return x_train, x_test"
   ]
  },
  {
   "cell_type": "code",
   "execution_count": 21,
   "metadata": {},
   "outputs": [
    {
     "data": {
      "application/vnd.jupyter.widget-view+json": {
       "model_id": "6ca1f8b312fa435d80f8d5dd07eb31c0",
       "version_major": 2,
       "version_minor": 0
      },
      "text/plain": [
       "HBox(children=(IntProgress(value=0, max=30), HTML(value='')))"
      ]
     },
     "metadata": {},
     "output_type": "display_data"
    },
    {
     "name": "stdout",
     "output_type": "stream",
     "text": [
      "\n",
      "Mem. usage decreased to 1922.73 Mb (18.9% reduction)\n",
      "Mem. usage decreased to 2109.98 Mb (23.0% reduction)\n"
     ]
    }
   ],
   "source": [
    "train, test = encode_categorical_columns(train, test, categorical_columns)\n",
    "train = reduce_mem_usage(train)\n",
    "test = reduce_mem_usage(test)"
   ]
  },
  {
   "cell_type": "code",
   "execution_count": 22,
   "metadata": {},
   "outputs": [],
   "source": [
    "# idea from this kernel: https://www.kaggle.com/fabiendaniel/detecting-malwares-with-lgbm\n",
    "def predict_chunk(model, test):\n",
    "    initial_idx = 0\n",
    "    chunk_size = 1000000\n",
    "    current_pred = np.zeros(len(test))\n",
    "    while initial_idx < test.shape[0]:\n",
    "        final_idx = min(initial_idx + chunk_size, test.shape[0])\n",
    "        idx = range(initial_idx, final_idx)\n",
    "        current_pred[idx] = model.predict(test.iloc[idx], num_iteration=model.best_iteration)\n",
    "        initial_idx = final_idx\n",
    "    #predictions += current_pred / min(folds.n_splits, max_iter)\n",
    "    return current_pred"
   ]
  },
  {
   "cell_type": "code",
   "execution_count": 23,
   "metadata": {},
   "outputs": [],
   "source": [
    "def train_model(x, y, lgb_params, \n",
    "                number_of_folds=5, \n",
    "                evaluation_metric='auc', \n",
    "                save_feature_importances=False, \n",
    "                early_stopping_rounds=50, \n",
    "                num_round = 50,\n",
    "                identifier_columns=['MachineIdentifier']):\n",
    "    cross_validator = StratifiedKFold(n_splits=number_of_folds,\n",
    "                                  random_state=random_state,\n",
    "                                  shuffle=shuffle)\n",
    "    \n",
    "    validation_scores = []\n",
    "    classifier_models = []\n",
    "    feature_importance_df = pd.DataFrame()\n",
    "    for fold_index, (train_index, validation_index) in enumerate(cross_validator.split(x, y)):\n",
    "        x_train, x_validation = x.iloc[train_index], x.iloc[validation_index]\n",
    "        y_train, y_validation = y.iloc[train_index], y.iloc[validation_index]\n",
    "    \n",
    "        x_train.drop(identifier_columns, axis=1, inplace=True)\n",
    "        validation_identifier_data = x_validation[identifier_columns]\n",
    "        x_validation.drop(identifier_columns, axis=1, inplace=True)\n",
    "        x_train_columns = x_train.columns\n",
    "        trn_data = lgb.Dataset(x_train,\n",
    "                       label=y_train,\n",
    "                       # categorical_feature=categorical_columns\n",
    "                       )\n",
    "        del x_train\n",
    "        del y_train\n",
    "        val_data = lgb.Dataset(x_validation,\n",
    "                               label=y_validation,\n",
    "                               # categorical_feature=categorical_columns\n",
    "                               )\n",
    "        classifier_model = lgb.train(lgb_params,\n",
    "                                     trn_data,\n",
    "                                      num_round,\n",
    "                                     valid_sets=[trn_data, val_data],\n",
    "                                     verbose_eval=100,\n",
    "                                     early_stopping_rounds=early_stopping_rounds,\n",
    "                                     feval=eval_auc\n",
    "                                     )\n",
    "\n",
    "        classifier_models.append(classifier_model)\n",
    "        \n",
    "        predictions = classifier_model.predict(x_validation, num_iteration=classifier_model.best_iteration)\n",
    "        false_positive_rate, recall, thresholds = metrics.roc_curve(y_validation, predictions)\n",
    "        score = metrics.auc(false_positive_rate, recall)\n",
    "        validation_scores.append(score)\n",
    "        \n",
    "        fold_importance_df = pd.DataFrame()\n",
    "        fold_importance_df[\"feature\"] = x_train_columns\n",
    "        fold_importance_df[\"importance\"] = classifier_model.feature_importance(importance_type='gain')\n",
    "        fold_importance_df[\"fold\"] = fold_index + 1\n",
    "        feature_importance_df = pd.concat([feature_importance_df, fold_importance_df], axis=0)\n",
    "\n",
    "    if save_feature_importances:\n",
    "        cols = (feature_importance_df[[\"feature\", \"importance\"]]\n",
    "                .groupby(\"feature\")\n",
    "                .mean()\n",
    "                .sort_values(by=\"importance\", ascending=False)[:1000].index)\n",
    "\n",
    "        best_features = feature_importance_df.loc[feature_importance_df.feature.isin(cols)]\n",
    "\n",
    "        plt.figure(figsize=(14, 25))\n",
    "        sns.barplot(x=\"importance\",\n",
    "                    y=\"feature\",\n",
    "                    data=best_features.sort_values(by=\"importance\",\n",
    "                                                   ascending=False))\n",
    "        plt.title('LightGBM Features (avg over folds)')\n",
    "        plt.tight_layout()\n",
    "        plt.savefig('lgbm_importances.png')\n",
    "\n",
    "        # mean_gain = feature_importances[['gain', 'feature']].groupby('feature').mean()\n",
    "        # feature_importances['mean_gain'] = feature_importances['feature'].map(mean_gain['gain'])\n",
    "        #\n",
    "        # temp = feature_importances.sort_values('mean_gain', ascending=False)\n",
    "        best_features.sort_values(by=\"importance\", ascending=False) \\\n",
    "            .groupby(\"feature\") \\\n",
    "            .mean() \\\n",
    "            .sort_values(by=\"importance\", ascending=False) \\\n",
    "            .to_csv('feature_importances_new.csv', index=True)\n",
    "\n",
    "    score = sum(validation_scores) / len(validation_scores)\n",
    "    return classifier_models, score"
   ]
  },
  {
   "cell_type": "code",
   "execution_count": 24,
   "metadata": {},
   "outputs": [],
   "source": [
    "base_params = {   \n",
    "        'boosting_type': 'gbdt',\n",
    "        'objective': 'binary',\n",
    "        'metric': 'auc',\n",
    "        'nthread': 4,\n",
    "        'learning_rate': 0.05,\n",
    "        'max_depth': 5,\n",
    "        'num_leaves': 40,\n",
    "        'sub_feature': 0.9,\n",
    "        'sub_row':0.9,\n",
    "        'bagging_freq': 1,\n",
    "        'lambda_l1': 0.1,\n",
    "        'lambda_l2': 0.1,\n",
    "        'random_state': random_state\n",
    "        }"
   ]
  },
  {
   "cell_type": "code",
   "execution_count": null,
   "metadata": {},
   "outputs": [
    {
     "name": "stdout",
     "output_type": "stream",
     "text": [
      "Training until validation scores don't improve for 200 rounds.\n",
      "[100]\ttraining's auc: 0.70191\ttraining's auc: 0.70191\tvalid_1's auc: 0.701587\tvalid_1's auc: 0.701587\n",
      "[200]\ttraining's auc: 0.710154\ttraining's auc: 0.710154\tvalid_1's auc: 0.709507\tvalid_1's auc: 0.709507\n",
      "[300]\ttraining's auc: 0.714941\ttraining's auc: 0.714941\tvalid_1's auc: 0.71401\tvalid_1's auc: 0.71401\n",
      "[400]\ttraining's auc: 0.717884\ttraining's auc: 0.717884\tvalid_1's auc: 0.716665\tvalid_1's auc: 0.716665\n",
      "[500]\ttraining's auc: 0.720496\ttraining's auc: 0.720496\tvalid_1's auc: 0.719036\tvalid_1's auc: 0.719036\n",
      "[600]\ttraining's auc: 0.722444\ttraining's auc: 0.722444\tvalid_1's auc: 0.720757\tvalid_1's auc: 0.720757\n",
      "[700]\ttraining's auc: 0.724207\ttraining's auc: 0.724207\tvalid_1's auc: 0.722282\tvalid_1's auc: 0.722282\n",
      "[800]\ttraining's auc: 0.72565\ttraining's auc: 0.72565\tvalid_1's auc: 0.723483\tvalid_1's auc: 0.723483\n",
      "[900]\ttraining's auc: 0.726989\ttraining's auc: 0.726989\tvalid_1's auc: 0.724597\tvalid_1's auc: 0.724597\n",
      "[1000]\ttraining's auc: 0.728251\ttraining's auc: 0.728251\tvalid_1's auc: 0.725626\tvalid_1's auc: 0.725626\n",
      "[1100]\ttraining's auc: 0.729446\ttraining's auc: 0.729446\tvalid_1's auc: 0.726596\tvalid_1's auc: 0.726596\n",
      "[1200]\ttraining's auc: 0.730426\ttraining's auc: 0.730426\tvalid_1's auc: 0.727336\tvalid_1's auc: 0.727336\n",
      "[1300]\ttraining's auc: 0.731333\ttraining's auc: 0.731333\tvalid_1's auc: 0.728017\tvalid_1's auc: 0.728017\n"
     ]
    }
   ],
   "source": [
    "models, validation_score = train_model(train.drop('HasDetections', axis=1),\n",
    "                                      train_y, base_params,\n",
    "                                      num_round=10000,\n",
    "                                       early_stopping_rounds=20,\n",
    "                                      stop_after_fold_number=stop_after_fold_number,\n",
    "                                      save_feature_importances=True)\n",
    "del train"
   ]
  },
  {
   "cell_type": "code",
   "execution_count": 28,
   "metadata": {},
   "outputs": [
    {
     "data": {
      "application/vnd.jupyter.widget-view+json": {
       "model_id": "c38e36b3c40649a3a32a86648768f392",
       "version_major": 2,
       "version_minor": 0
      },
      "text/plain": [
       "HBox(children=(IntProgress(value=0, max=1), HTML(value='')))"
      ]
     },
     "metadata": {},
     "output_type": "display_data"
    },
    {
     "name": "stdout",
     "output_type": "stream",
     "text": [
      "\n"
     ]
    }
   ],
   "source": [
    "submission_data = test[['MachineIdentifier']]\n",
    "predictions = np.zeros(len(test))\n",
    "test = test.drop('MachineIdentifier', axis=1)\n",
    "chunk_size = 1000000\n",
    "for classifier_model in tqdm(models):\n",
    "    current_pred = np.zeros(len(test))\n",
    "    initial_idx = 0\n",
    "    while initial_idx < test.shape[0]:\n",
    "        final_idx = min(initial_idx + chunk_size, test.shape[0])\n",
    "        idx = range(initial_idx, final_idx)\n",
    "        current_pred[idx] = classifier_model.predict(test.iloc[idx],\n",
    "                                                     num_iteration=classifier_model.best_iteration)\n",
    "        initial_idx = final_idx\n",
    "\n",
    "    predictions += current_pred / len(models)\n",
    "del test"
   ]
  },
  {
   "cell_type": "code",
   "execution_count": 29,
   "metadata": {},
   "outputs": [],
   "source": [
    "submission_data['HasDetections'] = predictions\n",
    "filename = 'submission_{:.6f}_{}_folds_{}_data.csv'.format(validation_score,\n",
    "                                                              dt.now().strftime('%Y-%m-%d-%H-%M'),\n",
    "                                                              len(models))\n",
    "submission_data.to_csv('../result/single_{}'.format(filename), index=False)"
   ]
  }
 ],
 "metadata": {
  "kernelspec": {
   "display_name": "Python 3",
   "language": "python",
   "name": "python3"
  },
  "language_info": {
   "codemirror_mode": {
    "name": "ipython",
    "version": 3
   },
   "file_extension": ".py",
   "mimetype": "text/x-python",
   "name": "python",
   "nbconvert_exporter": "python",
   "pygments_lexer": "ipython3",
   "version": "3.6.5"
  }
 },
 "nbformat": 4,
 "nbformat_minor": 2
}
